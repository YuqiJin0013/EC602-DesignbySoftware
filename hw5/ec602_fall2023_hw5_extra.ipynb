{
 "cells": [
  {
   "cell_type": "code",
   "execution_count": 1,
   "id": "a66d1f84-3e86-452e-a823-c51db6ee4cfe",
   "metadata": {},
   "outputs": [],
   "source": [
    "import pandas as pd\n",
    "import numpy as np\n",
    "import random"
   ]
  },
  {
   "cell_type": "markdown",
   "id": "3a856b4d-1dcc-4611-9808-f044793667b6",
   "metadata": {},
   "source": [
    "# Non-dairy milk prices\n",
    "\n",
    "The following data represents a collection of reports about sales of non-diary milk (NDM) in the five New England states.\n",
    "\n",
    "Each tuple is a \"NDM report\" with the following information\n",
    "\n",
    "- the flavor of milk sold\n",
    "- the price of the item\n",
    "- the amount (or size) of the sold unit\n",
    "- the state in which the sale occurred\n",
    "\n",
    "All of the values in the database are strings.\n",
    "\n",
    "The formatting of the information about the flavor and the price varies widely: \n",
    "\n",
    "- the flavor is sometimes capitalized and sometimes has the word \"milk\" added to it. \n",
    "- the price is sometimes reported as an integer string, sometimes as a float string, and sometimes has the \"dollar\" symbol in front."
   ]
  },
  {
   "cell_type": "code",
   "execution_count": 1,
   "id": "b1023520-9653-42aa-93cd-2ad75e7bac99",
   "metadata": {
    "tags": []
   },
   "outputs": [
    {
     "name": "stdout",
     "output_type": "stream",
     "text": [
      "(('Hemp milk', '3.0', '16 oz', 'RI'), ('soy', '$3.39', '16 oz', 'ME'), ('cashew', '7', '4 oz', 'RI'), ('Oat', '6.85', '8 oz', 'CT'), ('hemp', '4', '4 oz', 'CT'), ('Hemp milk', '3', '16 oz', 'CT'), ('cashew milk', '2', '24 oz', 'ME'), ('rice', '3', '8 oz', 'CT'), ('cashew', '0', '16 oz', 'RI'), ('rice milk', '1.0', '24 oz', 'RI'), ('Other milk', '3', '24 oz', 'CT'), ('other milk', '6', '24 oz', 'CT'), ('Almond milk', '$3.20', '4 oz', 'ME'), ('Other', '3.0', '16 oz', 'RI'), ('Oat', '1.44', '16 oz', 'ME'), ('oat milk', '$4.29', '24 oz', 'MA'), ('Hemp', '5', '24 oz', 'RI'), ('oat milk', '4', '4 oz', 'ME'), ('coconut', '4.67', '16 oz', 'MA'), ('Oat', '3.0', '24 oz', 'VT'), ('other', '$3.00', '8 oz', 'VT'), ('Coconut', '3', '24 oz', 'VT'), ('Cashew', '4.01', '8 oz', 'ME'), ('rice milk', '3.0', '8 oz', 'ME'), ('Cashew', '2', '16 oz', 'ME'), ('cashew milk', '5', '16 oz', 'MA'), ('Soy', '6.1', '8 oz', 'VT'), ('Rice', '$1.91', '8 oz', 'CT'), ('Coconut', '$4.24', '24 oz', 'CT'), ('Oat milk', '2.84', '16 oz', 'MA'), ('Soy milk', '5.0', '8 oz', 'RI'), ('Oat milk', '2.38', '8 oz', 'MA'), ('Rice milk', '3', '16 oz', 'ME'), ('Soy milk', '$5.00', '8 oz', 'ME'), ('coconut milk', '4', '24 oz', 'MA'), ('Coconut', '$3.65', '16 oz', 'CT'), ('almond milk', '2', '8 oz', 'ME'), ('Coconut', '3.53', '8 oz', 'MA'), ('Oat milk', '3', '24 oz', 'VT'), ('soy', '$5.94', '24 oz', 'RI'), ('Almond', '3', '8 oz', 'VT'), ('Other', '3.0', '24 oz', 'MA'), ('hemp milk', '0', '24 oz', 'CT'), ('coconut milk', '3', '8 oz', 'VT'), ('Soy milk', '$3.27', '16 oz', 'VT'), ('coconut', '$3.00', '8 oz', 'ME'), ('soy', '5', '24 oz', 'CT'), ('Hemp milk', '5', '8 oz', 'MA'), ('other milk', '3', '24 oz', 'RI'), ('Hemp', '7', '16 oz', 'ME'), ('oat milk', '3', '4 oz', 'VT'), ('almond milk', '$3.00', '4 oz', 'CT'), ('soy', '3', '24 oz', 'VT'), ('hemp milk', '$3.00', '16 oz', 'CT'), ('hemp milk', '5', '4 oz', 'CT'), ('soy milk', '4', '24 oz', 'ME'), ('coconut milk', '3.27', '4 oz', 'MA'), ('soy milk', '3', '4 oz', 'ME'), ('Hemp', '5', '16 oz', 'RI'), ('Oat milk', '2.88', '16 oz', 'RI'), ('Almond milk', '3.6', '24 oz', 'MA'), ('rice milk', '2', '4 oz', 'ME'), ('Soy milk', '0.4', '16 oz', 'CT'), ('cashew', '4', '4 oz', 'ME'), ('soy milk', '$3.00', '8 oz', 'VT'), ('cashew', '0', '8 oz', 'ME'), ('soy', '$2.28', '4 oz', 'VT'), ('soy milk', '$3.00', '16 oz', 'MA'), ('other', '3', '4 oz', 'VT'), ('Hemp milk', '$4.68', '8 oz', 'CT'), ('Soy milk', '$3.74', '24 oz', 'RI'), ('Other milk', '3', '4 oz', 'ME'), ('cashew', '3', '16 oz', 'VT'), ('coconut', '5', '4 oz', 'ME'), ('Other milk', '2.56', '8 oz', 'MA'), ('soy', '4.25', '24 oz', 'RI'), ('Soy milk', '3.0', '4 oz', 'ME'), ('cashew milk', '$3.91', '24 oz', 'VT'), ('rice', '$3.93', '8 oz', 'ME'), ('Hemp', '$5.00', '8 oz', 'VT'), ('soy milk', '$4.79', '4 oz', 'VT'), ('Oat', '$4.34', '8 oz', 'RI'), ('coconut', '0', '16 oz', 'MA'), ('coconut', '$2.20', '4 oz', 'RI'), ('Soy milk', '1', '24 oz', 'RI'), ('soy', '$3.82', '8 oz', 'VT'), ('Coconut milk', '$3.23', '16 oz', 'CT'), ('Hemp milk', '$3.00', '8 oz', 'RI'), ('Coconut', '$6.72', '24 oz', 'RI'), ('cashew milk', '$3.00', '16 oz', 'ME'), ('Almond', '3.0', '8 oz', 'VT'), ('almond', '4', '4 oz', 'MA'), ('coconut milk', '2', '8 oz', 'ME'), ('Rice milk', '3', '4 oz', 'ME'), ('Almond milk', '$0.81', '8 oz', 'RI'), ('cashew', '4.56', '8 oz', 'CT'), ('coconut', '2.38', '8 oz', 'CT'), ('Hemp milk', '3.61', '16 oz', 'ME'), ('Other milk', '0.44', '8 oz', 'VT'), ('hemp milk', '2', '8 oz', 'RI'), ('Rice', '4.16', '4 oz', 'CT'), ('Other milk', '3', '8 oz', 'ME'), ('cashew milk', '1.15', '8 oz', 'MA'), ('Oat milk', '6', '24 oz', 'VT'), ('Cashew milk', '4.46', '24 oz', 'CT'), ('Cashew milk', '5', '4 oz', 'ME'), ('other', '$3.99', '8 oz', 'MA'), ('other milk', '5', '8 oz', 'ME'), ('Almond', '$5.00', '4 oz', 'VT'), ('almond milk', '$4.00', '24 oz', 'RI'), ('Cashew', '$3.53', '24 oz', 'CT'), ('Other', '3', '8 oz', 'RI'), ('hemp milk', '$3.00', '8 oz', 'MA'), ('Cashew milk', '4.43', '4 oz', 'RI'), ('Cashew milk', '3.0', '8 oz', 'ME'), ('other milk', '$3.00', '4 oz', 'ME'), ('Hemp', '$3.90', '8 oz', 'ME'), ('other milk', '0', '8 oz', 'ME'), ('oat milk', '3.0', '8 oz', 'ME'), ('Other', '1.35', '8 oz', 'RI'), ('cashew milk', '$3.05', '4 oz', 'MA'), ('cashew', '$5.00', '24 oz', 'MA'), ('oat', '3', '8 oz', 'ME'), ('Coconut milk', '3', '16 oz', 'CT'), ('rice', '$3.00', '8 oz', 'RI'), ('Rice', '$3.00', '24 oz', 'RI'), ('cashew milk', '$3.00', '24 oz', 'MA'), ('Almond milk', '4.06', '16 oz', 'RI'), ('rice', '3', '24 oz', 'ME'), ('Rice milk', '4', '8 oz', 'MA'), ('rice', '3.0', '24 oz', 'CT'), ('Almond milk', '2', '4 oz', 'RI'), ('almond', '4.03', '8 oz', 'MA'), ('almond milk', '$5.00', '16 oz', 'CT'), ('hemp', '0', '16 oz', 'VT'), ('other milk', '4.99', '24 oz', 'ME'), ('Oat milk', '$1.99', '4 oz', 'VT'), ('Hemp milk', '$0.80', '16 oz', 'MA'), ('Other milk', '$2.65', '16 oz', 'CT'), ('hemp', '3.81', '4 oz', 'VT'), ('cashew milk', '$2.37', '16 oz', 'VT'), ('oat milk', '$1.32', '16 oz', 'VT'), ('Cashew milk', '$3.00', '8 oz', 'VT'), ('coconut milk', '3.0', '16 oz', 'CT'), ('Other', '5.16', '16 oz', 'CT'), ('Soy', '$5.00', '8 oz', 'CT'), ('rice milk', '3', '8 oz', 'RI'), ('almond milk', '6.0', '24 oz', 'MA'), ('other', '3', '16 oz', 'VT'), ('rice milk', '3', '8 oz', 'CT'), ('other milk', '3', '16 oz', 'CT'), ('oat milk', '3', '8 oz', 'MA'), ('Cashew', '3.0', '4 oz', 'VT'), ('Cashew', '5', '24 oz', 'MA'), ('other milk', '$3.00', '24 oz', 'MA'), ('other', '7', '16 oz', 'CT'), ('rice milk', '5.0', '24 oz', 'CT'), ('soy', '3', '4 oz', 'CT'), ('cashew', '$4.04', '16 oz', 'ME'), ('Oat', '$4.03', '4 oz', 'RI'), ('cashew', '$3.41', '4 oz', 'MA'), ('Hemp milk', '4.31', '16 oz', 'VT'), ('Hemp', '6', '16 oz', 'VT'), ('Coconut', '$3.81', '24 oz', 'ME'), ('rice milk', '2', '16 oz', 'VT'), ('soy milk', '0', '24 oz', 'RI'), ('Almond milk', '$3.00', '8 oz', 'ME'), ('Oat', '5', '8 oz', 'ME'), ('Coconut', '3', '4 oz', 'CT'), ('rice', '6.96', '16 oz', 'CT'), ('Rice milk', '3.74', '4 oz', 'VT'), ('Cashew', '$5.57', '4 oz', 'RI'), ('other', '3.41', '24 oz', 'CT'), ('Soy', '2.69', '4 oz', 'ME'), ('Soy milk', '3.0', '24 oz', 'CT'), ('almond milk', '$0.40', '8 oz', 'VT'), ('Oat', '5.83', '8 oz', 'CT'), ('other', '$5.00', '16 oz', 'VT'), ('coconut', '$5.00', '16 oz', 'RI'), ('Coconut milk', '$4.68', '4 oz', 'ME'), ('oat milk', '$6.20', '8 oz', 'MA'), ('Coconut milk', '1.64', '16 oz', 'MA'), ('Cashew milk', '$3.94', '4 oz', 'VT'), ('Oat milk', '$3.49', '16 oz', 'ME'), ('Hemp milk', '3', '16 oz', 'ME'), ('cashew milk', '1', '4 oz', 'CT'), ('almond', '$3.00', '8 oz', 'VT'), ('other milk', '$2.10', '4 oz', 'MA'), ('soy', '4.43', '4 oz', 'CT'), ('Soy milk', '$5.00', '16 oz', 'MA'), ('soy milk', '$3.00', '16 oz', 'MA'), ('Cashew milk', '4', '4 oz', 'VT'), ('Almond milk', '$4.38', '4 oz', 'VT'), ('rice', '3.11', '24 oz', 'CT'), ('soy', '4.83', '16 oz', 'VT'), ('Other milk', '3', '8 oz', 'CT'), ('Hemp', '$8.48', '8 oz', 'VT'), ('almond milk', '2', '24 oz', 'MA'), ('oat milk', '0.4', '16 oz', 'CT'), ('oat', '$4.92', '8 oz', 'VT'))\n"
     ]
    }
   ],
   "source": [
    "import random\n",
    "import pandas as pd\n",
    "import numpy as np\n",
    "\n",
    "states=[\"MA\",\"VT\",\"CT\",\"RI\",\"ME\"]\n",
    "\n",
    "milks = ['oat','almond',\"soy\",\"coconut\",\"hemp\",\"cashew\",\"rice\",\"other\"]\n",
    "\n",
    "milk_mods=[lambda x: x.title(), lambda y: y+\" milk\", lambda z: z,lambda a: a.title()+ \" milk\"]\n",
    "\n",
    "price_mods=[lambda x: str(round(x,2)), lambda y: str(round(y)), lambda z: f\"${round(z,2):.2f}\"]\n",
    "#price_mods=[lambda z: f\"${round(z,2):.2f}\"]\n",
    "\n",
    "limit_price=[lambda x: min(5.0, max(0.4,x)), lambda y: min(10.0, max(3.0,y))]\n",
    "N = 200\n",
    "\n",
    "state_set = random.sample(states,N, counts=(N,)*len(states))\n",
    "\n",
    "\n",
    "milk_set = random.sample(milks,N, counts =(N,)*len(milks))\n",
    "mod_milk_set = random.sample(milk_mods, N, counts=(N,)*len(milk_mods))\n",
    "\n",
    "price_set = np.random.normal(3,2, (N,) )\n",
    "mod_price_set = random.sample(price_mods, N, counts=(N,)*len(price_mods))\n",
    "limit_price_set = random.sample(limit_price, N, counts=(N,)*len(limit_price))\n",
    "\n",
    "amt_mod = lambda a: f\"{a} oz\"\n",
    "amount_set = random.sample([4,8,16,24], N, counts = (N,)*4 )\n",
    "data=[]\n",
    "for x in range(N):\n",
    "    a,b,c,d = state_set[x], \\\n",
    "          mod_milk_set[x](milk_set[x]), \\\n",
    "          mod_price_set[x](limit_price_set[x](price_set[x])), \\\n",
    "         amt_mod(amount_set[x])\n",
    "    data.append((b,c,d,a))\n",
    "\n",
    "db = tuple(data)\n",
    "print(db)"
   ]
  },
  {
   "cell_type": "markdown",
   "id": "b8cf254d-e48e-4121-966b-52e6849e35ce",
   "metadata": {
    "jupyter": {
     "outputs_hidden": true
    },
    "tags": []
   },
   "source": [
    "## Questions\n",
    "\n",
    "1. `reports`: How many NDM reports are there?\n",
    "2. `most_reporting`: Which state reported most frequently?\n",
    "3. `expensive_milk`: What is the most expensive type of NDM, as measured by price per unit sold? You can use any of the milk formats for this. Say the answer is \"oat\": then \"Oat\", \"Oat milk\", or \"oat milk\" are all acceptable.\n",
    "4. `buy_almond_in`: In which state is Almond milk the least expensive, as measured by price per oz?\n",
    "\n",
    "These should be stored in the variable names shown."
   ]
  },
  {
   "cell_type": "code",
   "execution_count": 2,
   "id": "27999745-3dd1-40bd-aeae-5eac41036dd3",
   "metadata": {},
   "outputs": [
    {
     "name": "stdout",
     "output_type": "stream",
     "text": [
      "There are: 200 NDM reports\n"
     ]
    }
   ],
   "source": [
    "# I have many truples\n",
    "# df = pd.read_csv('your_dataset.csv')\n",
    "''' 1. '''\n",
    "df = pd.DataFrame(db)\n",
    "# Get the number of tuples (rows)\n",
    "reports = df.shape[0]\n",
    "print(f\"There are: {reports} NDM reports\")\n"
   ]
  },
  {
   "cell_type": "code",
   "execution_count": 3,
   "id": "eda20dd3",
   "metadata": {},
   "outputs": [
    {
     "name": "stdout",
     "output_type": "stream",
     "text": [
      "The state reported most frequently is: ME\n"
     ]
    }
   ],
   "source": [
    "'''2.'''\n",
    "df = pd.DataFrame(db, columns=[\"Milk Flavor\", \"Price\", \"Amount Sold\", \"State\"])\n",
    "\n",
    "# Use value_counts to count the frequency of each state\n",
    "state_counts = df['State'].value_counts()\n",
    "\n",
    "# Get the state with the highest frequency\n",
    "most_reporting = state_counts.idxmax()\n",
    "print(f\"The state reported most frequently is: {most_reporting}\")"
   ]
  },
  {
   "cell_type": "code",
   "execution_count": 4,
   "id": "b4f51797",
   "metadata": {},
   "outputs": [
    {
     "name": "stdout",
     "output_type": "stream",
     "text": [
      "The most expensive type of milk is cashew milk.\n"
     ]
    }
   ],
   "source": [
    "'''3.'''\n",
    "\n",
    "df = pd.DataFrame(db, columns=[\"Milk Flavor\", \"Price\", \"Amount Sold\", \"State\"])\n",
    "\n",
    "# Function to preprocess and standardize the 'Price' column\n",
    "def preprocess_price(price_str):\n",
    "    # Remove '$' and ',' characters, if present\n",
    "    price_str = price_str.replace('$', '').replace(',', '')\n",
    "    # Convert the string to a float\n",
    "    return float(price_str)\n",
    "\n",
    "# Function to preprocess and standardize the 'Milk Flavor' column\n",
    "# make all flavor names become lower letter with word \"milk\"\n",
    "def preprocess_flavor(flavor_str):\n",
    "    # Remove any leading or trailing whitespace\n",
    "    flavor_str = flavor_str.strip()\n",
    "    \n",
    "    # Check if the string already contains \"milk\"; if not, add it\n",
    "    if \"milk\" not in flavor_str:\n",
    "        flavor_str += \" milk\"\n",
    "    \n",
    "    # Convert the string to lowercase\n",
    "    standardized_flavor = flavor_str.lower()\n",
    "    \n",
    "    return standardized_flavor\n",
    "\n",
    "# Preprocess the 'Price' and 'Milk Flavor' columns\n",
    "df[\"Price\"] = df[\"Price\"].apply(preprocess_price)\n",
    "df[\"Milk Flavor\"] = df[\"Milk Flavor\"].apply(preprocess_flavor)\n",
    "\n",
    "# Convert the \"Amount Sold\" column to a numeric data type (int)\n",
    "df[\"Amount Sold\"] = df[\"Amount Sold\"].str.extract('(\\d+)').astype(int)\n",
    "\n",
    "# Calculate the price per unit sold and add it as a new column\n",
    "df[\"Price per Unit\"] = df[\"Price\"] / df[\"Amount Sold\"]\n",
    "\n",
    "# Calculate the average price for each type of milk flavor\n",
    "average_price_per_flavor = df.groupby(\"Milk Flavor\")[\"Price per Unit\"].mean()\n",
    "\n",
    "# Find the milk flavor with the highest average price\n",
    "expensive_milk = average_price_per_flavor.idxmax()\n",
    "\n",
    "print(f\"The most expensive type of milk is {expensive_milk}.\")\n",
    "# print(average_price_per_flavor)\n"
   ]
  },
  {
   "cell_type": "code",
   "execution_count": 5,
   "id": "a7e6123c",
   "metadata": {},
   "outputs": [
    {
     "name": "stdout",
     "output_type": "stream",
     "text": [
      "The state with the least expensive Almond milk is RI.\n",
      "The price of Almond milk in RI is $0.26 per ounce.\n"
     ]
    }
   ],
   "source": [
    "'''4.'''\n",
    "# Convert the 'db' tuple into a Pandas DataFrame\n",
    "\n",
    "df = pd.DataFrame(db, columns=[\"Milk Flavor\", \"Price\", \"Amount Sold\", \"State\"])\n",
    "\n",
    "# Function to preprocess and standardize the 'Price' column\n",
    "def preprocess_price(price_str):\n",
    "    # Remove '$' and ',' characters, if present\n",
    "    price_str = price_str.replace('$', '').replace(',', '')\n",
    "    # Convert the string to a float\n",
    "    return float(price_str)\n",
    "\n",
    "# Function to preprocess and standardize the 'Milk Flavor' column\n",
    "def preprocess_flavor(flavor_str):\n",
    "    # Remove any leading or trailing whitespace\n",
    "    flavor_str = flavor_str.strip()\n",
    "    \n",
    "    # Check if the string already contains \"milk\"; if not, add it\n",
    "    if \"milk\" not in flavor_str:\n",
    "        flavor_str += \" milk\"\n",
    "    \n",
    "    # Convert the string to lowercase\n",
    "    standardized_flavor = flavor_str.lower()\n",
    "    \n",
    "    return standardized_flavor\n",
    "\n",
    "# Preprocess the 'Price' and 'Milk Flavor' columns\n",
    "df[\"Price\"] = df[\"Price\"].apply(preprocess_price)\n",
    "df[\"Milk Flavor\"] = df[\"Milk Flavor\"].apply(preprocess_flavor)\n",
    "\n",
    "# Convert the \"Amount Sold\" column to a numeric data type (int)\n",
    "df[\"Amount Sold\"] = df[\"Amount Sold\"].str.extract('(\\d+)').astype(int)\n",
    "\n",
    "# Calculate the price per unit sold and add it as a new column\n",
    "df[\"Price per Ounce\"] = df[\"Price\"] / df[\"Amount Sold\"]\n",
    "\n",
    "# Filter the DataFrame to only include Almond milk rows\n",
    "almond_milk_df = df[df[\"Milk Flavor\"] == \"almond milk\"]\n",
    "\n",
    "# Calculate the price per ounce of Almond milk in each state\n",
    "price_per_ounce_by_state = almond_milk_df.groupby(\"State\")[\"Price per Ounce\"].mean()\n",
    "\n",
    "# Find the state with the least price per ounce for Almond milk\n",
    "buy_almond_in = price_per_ounce_by_state.idxmin()\n",
    "cheapest_price_for_almond_milk = price_per_ounce_by_state.min()\n",
    "\n",
    "print(f\"The state with the least expensive Almond milk is {buy_almond_in}.\")\n",
    "print(f\"The price of Almond milk in {buy_almond_in} is ${cheapest_price_for_almond_milk:.2f} per ounce.\")"
   ]
  }
 ],
 "metadata": {
  "kernelspec": {
   "display_name": "Python 3 (ipykernel)",
   "language": "python",
   "name": "python3"
  },
  "language_info": {
   "codemirror_mode": {
    "name": "ipython",
    "version": 3
   },
   "file_extension": ".py",
   "mimetype": "text/x-python",
   "name": "python",
   "nbconvert_exporter": "python",
   "pygments_lexer": "ipython3",
   "version": "3.11.5"
  }
 },
 "nbformat": 4,
 "nbformat_minor": 5
}
